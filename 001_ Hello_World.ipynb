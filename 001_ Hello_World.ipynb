{
 "cells": [
  {
   "cell_type": "markdown",
   "metadata": {},
   "source": [
    "<img src ='Python_logo.png'>\n",
    "# Lesson 1 - Hello World!\n",
    "\n",
    "## **Welcome to the World of Python**\n",
    "\n",
    "You may have heard a lot about Python as a coding language. In the last twenty years, Python has gained a strong and loyal following of coders and data scientists. It is powering companies such as Facebook and Google, and it is the basis of more data analytics programming than any other language. \n",
    "\n",
    "***Python is a versatile language.*** With Python, you can build apps, make websites or run complex statistical modelling. With Python, you can produce complex data visualizations and teach computers to read just like we read a book or document. \n",
    "\n",
    "***Python is simple.*** Of the professional languages that you will encounter in your coding life, Python is known to be one of the easiest for beginners. Its syntax is straightforward and human friendly. Unlike more complex languages such as C, C++ or C#, Python's syntax and commands are built to make sense to English speakers. While this is not always true, it is in most cases.\n",
    "\n",
    "## **Getting the Most Out of The Lessons**\n",
    "The lessons we will produce will be in Jupyter Notebooks. You are in your first Jupyter notebook right now. This entire lesson is done in one Jupyter Notebook. \n",
    "\n",
    "Jupyter Notebooks are the preferred work environment for writing Python code. Jupyter Notebooks are part of a group of Integrated Development Environments (IDEs - you will see this term quite a bit in your coding career). IDEs are software tools (or environments) to construct and test your code. Unlike other Python IDEs, such as Atom, Spyder, PyCharm and others, Jupyter Notebook allows you to test your whole code or blocks of code simply. Jupyter Notebooks allow you to easily document your code and add extensive notes (such as this introduction) without affecting the code. Making notes in plain English (or your native language) in your code is called ***documenting your code.*** \n",
    "\n",
    "In the thrill of the coding moment, you will do amazing things in code. But the next day, after you have come out of *the zone* of coding, you will look back on your code and not remember what you were doing or how you were solving the problem. Sure, you can spend time re-reading your code to figure it out, but why do that when you can add in human-friendly words an explanation on what you are doing. \n",
    "\n",
    "Documentation within code is great for you the next day or next week when you return to the code, but you will not always be the only person reading your code. Your documentation helps other coders who come after you to understand what you were doing. (*NOTE: You will spend more time reading other people's code than you will do writing your own code over the length of your coding career. Expend a few hours with someone else's code who has not documented their code, and you will definitely come to appreciate good documentation. Don't be one of THOSE coders who don't document!*)\n",
    "\n",
    "Jupyter notebooks make documenting your code easy and straight forward. \n",
    "\n",
    "## **Let's Write Our First Program**\n",
    "\n",
    "Coding tradition states that the first program every coder should write for good luck in their career with that language is \"Hello World!\". \n",
    "\n",
    "In 1983, when Macintosh was introduced to the world, the first words spoken from that glorious little beige box with the tiny monochromatic screen was \"Hello World!\"\n",
    "\n",
    "Take a look at this next block of code. See if you can predict what it is going to do.\n",
    "\n",
    "When you are ready, select the block then click RETURN + SHIFT. This command (RETURN + SHIFT) tells Jupyter Notebook to run the block of code. "
   ]
  },
  {
   "cell_type": "code",
   "execution_count": 1,
   "metadata": {},
   "outputs": [
    {
     "name": "stdout",
     "output_type": "stream",
     "text": [
      "Hello World!\n"
     ]
    }
   ],
   "source": [
    "print(\"Hello World!\")"
   ]
  },
  {
   "cell_type": "markdown",
   "metadata": {
    "hide_input": false
   },
   "source": [
    "**Your Turn**\n",
    "\n",
    "Now it is your turn to write your first bit of code that will start your coding career off on good luck. \n",
    "\n",
    "(Take a look at the block of code above. ***DO NOT COPY AND PASTE IT, ACTUALLY TYPE IT OUT!*** Learn to not copy and paste code, but to type it out instead. This will go a long way to help you with learning syntax.)"
   ]
  },
  {
   "cell_type": "code",
   "execution_count": 8,
   "metadata": {},
   "outputs": [
    {
     "name": "stdout",
     "output_type": "stream",
     "text": [
      "Hello World\n",
      "Hello World's!\n"
     ]
    }
   ],
   "source": [
    "# In this block of code, type out a PRINT statement that\n",
    "# causes Python to return \"Hello World!\"\n",
    "\n",
    "print('Hello World')\n",
    "print(\"Hello World's!\")\n"
   ]
  },
  {
   "cell_type": "markdown",
   "metadata": {},
   "source": [
    "# `Print` Statements"
   ]
  },
  {
   "cell_type": "markdown",
   "metadata": {},
   "source": [
    "**Did You Notice...**\n",
    "\n",
    "1. that in the print statement, print is all lower case letters?\n",
    "\n",
    "1. that in the print statement, Python printed out everything between the parentheses and the quotation marks?\n",
    "\n",
    "1. that the quotation marks are double quotation marks?\n",
    "\n",
    "Let's see what happens when we use single quotation marks in the same statement."
   ]
  },
  {
   "cell_type": "code",
   "execution_count": 1,
   "metadata": {},
   "outputs": [
    {
     "name": "stdout",
     "output_type": "stream",
     "text": [
      "Hello World!\n"
     ]
    }
   ],
   "source": [
    "# In this block, type out the same print statement you did above,\n",
    "# but use single quotes instead.\n",
    "print('Hello World!')\n",
    "\n"
   ]
  },
  {
   "cell_type": "markdown",
   "metadata": {},
   "source": [
    "**What happened?**\n",
    "\n",
    "Was there any difference between using a single and a double quotation mark in the print statement? \n",
    "\n",
    "\n",
    "There was no difference between using single quotes and double quotes in a print statement. You can use either, but if you use single quotes and there is an apostrphe in your print statement, Python will assume the apostrophy to be the closing single quotation mark. \n",
    "\n",
    "It is good Python coding to use single quotes **UNLESS** you have an apostrophe in your print statement. Then you want to use a double quotation opening and closing mark.\n",
    "\n",
    "\n",
    "**Do I Always Need to Use Quotation Marks?\"**\n"
   ]
  },
  {
   "cell_type": "code",
   "execution_count": 12,
   "metadata": {},
   "outputs": [
    {
     "name": "stdout",
     "output_type": "stream",
     "text": [
      "3+3\n",
      "6\n"
     ]
    }
   ],
   "source": [
    "# In this block, type out print(3+3). What are the results of not using quotation marks with numbers?\n",
    "\n",
    "print('3+3')\n",
    "\n",
    "# This next line is an arithmetic function\n",
    "print(3+3)\n"
   ]
  },
  {
   "cell_type": "markdown",
   "metadata": {},
   "source": [
    "**What happened?**\n",
    "\n",
    "Did you notice that when you asked Python to print the result of 3+3, Python returned the number 6?"
   ]
  },
  {
   "cell_type": "code",
   "execution_count": 2,
   "metadata": {},
   "outputs": [],
   "source": [
    "# In this block, type out print('3+3'). What is the difference\n",
    "# of using quotation marks with numbers?\n",
    "\n",
    "\n"
   ]
  },
  {
   "cell_type": "markdown",
   "metadata": {},
   "source": [
    "# Comments/Documentation\n",
    "\n",
    "In the last few examples, you may have noticed some of the instructions in the coding blocks were prefaced with a '#' and the lettering is green. You may have also noticed that Python seems to ignore these words. What you noticed about Python ignoring the words (comments) is correct.\n",
    "\n",
    "Comments are regular English (or whichever language you are most comfortable) statements that are prefaced by a '#' (hashtag). This is one of two ways for a coder to document what is being done with the code.\n",
    "\n",
    "Take a look at the next block of code. For now look only at the way that different hashtag documentation comments can be made in your code, and which Python will ignore when it runs the code for you."
   ]
  },
  {
   "cell_type": "code",
   "execution_count": 3,
   "metadata": {},
   "outputs": [
    {
     "name": "stdout",
     "output_type": "stream",
     "text": [
      "Only this print statement is returned.\n"
     ]
    }
   ],
   "source": [
    "# A hashtag comment is only one sentence. \n",
    "# If your comment goes for more than one line, you have to use an additional hashtag to preface each line.\n",
    "# You will also notice that when you use a hashtag, the sentence you write will not word wrap.\n",
    "\n",
    "print('Only this print statement is returned.') # Hashtags can also be used in-line with code."
   ]
  },
  {
   "cell_type": "markdown",
   "metadata": {},
   "source": [
    "Hashtags are incredibly helpful, but sometimes your comments need much more than one sentence or one line. To make that easier, Python also used three single quotation marks for multiple lines of comments. \n",
    "\n",
    "Take a look at the next block of comment. Notice that the comments preceeded and ending with three quotation marks are ignored by Python when it runs the code. "
   ]
  },
  {
   "cell_type": "code",
   "execution_count": null,
   "metadata": {},
   "outputs": [],
   "source": [
    "'''\n",
    "When you use three single quotation marks to open and close your comments, you can make\n",
    "much longer comments that make sense to you, but are ignored by Python.\n",
    "\n",
    "In Jupyter Notebooks, when you type three single quotation marks, the notebook assumes \n",
    "that you will need the closing marks and it does it for you. \n",
    "\n",
    "Run this block to see that Python ignored the comments/documentation, but ran the code.\n",
    "\n",
    "'''\n",
    "\n",
    "print(\"Again, only the print command ran and Python ignored the comments.\")"
   ]
  },
  {
   "cell_type": "markdown",
   "metadata": {},
   "source": [
    "**Now it is your turn.** \n",
    "\n",
    "In the next block, use either the hashtag or ''' comment structure to say hello to the program, then code a print statement that Python will run telling everyone that the comments did not run."
   ]
  },
  {
   "cell_type": "code",
   "execution_count": 15,
   "metadata": {},
   "outputs": [
    {
     "name": "stdout",
     "output_type": "stream",
     "text": [
      "the comment did not run\n"
     ]
    }
   ],
   "source": [
    "\n",
    "# These are my comments, Hello Program!\n",
    "# This is the second line\n",
    "\n",
    "'''\n",
    "This is line one.\n",
    "This is line two.\n",
    "\n",
    "'''\n",
    "\n",
    "\n",
    "print('the comment did not run')"
   ]
  },
  {
   "cell_type": "markdown",
   "metadata": {},
   "source": [
    "# Exercises"
   ]
  },
  {
   "cell_type": "code",
   "execution_count": 17,
   "metadata": {},
   "outputs": [
    {
     "name": "stdout",
     "output_type": "stream",
     "text": [
      "\"Hello World!\"\n"
     ]
    }
   ],
   "source": [
    "# Write a print statement that prints out the saying, \"Hello World!\", \n",
    "# just as you see it here with quotation marks. \n",
    "\n",
    "print('\"Hello World!\"')\n"
   ]
  },
  {
   "cell_type": "code",
   "execution_count": 18,
   "metadata": {},
   "outputs": [
    {
     "name": "stdout",
     "output_type": "stream",
     "text": [
      "76\n"
     ]
    }
   ],
   "source": [
    "# Write a print statement that gives the sum of 28 and 48.\n",
    "\n",
    "print(28+48)\n"
   ]
  },
  {
   "cell_type": "code",
   "execution_count": 29,
   "metadata": {},
   "outputs": [
    {
     "name": "stdout",
     "output_type": "stream",
     "text": [
      "\"Hello World!\" 42\n",
      "\"Hello World!\" 58\n"
     ]
    }
   ],
   "source": [
    "# Write a print statement that says \"Hello World!\", and gives\n",
    "# the number 42 immediately after the statement.\n",
    "\n",
    "print('\"Hello World!\"', '42')\n",
    "print('\"Hello World!\"', 42)\n"
   ]
  },
  {
   "cell_type": "markdown",
   "metadata": {},
   "source": [
    "In the next block, write a comment using a # that explains what the print statement in the block will do. Run the script when you are done. "
   ]
  },
  {
   "cell_type": "code",
   "execution_count": 34,
   "metadata": {},
   "outputs": [
    {
     "name": "stdout",
     "output_type": "stream",
     "text": [
      "My name is Bond, James Bond, 007\n",
      "My name is Bond, James Bond, 007\n"
     ]
    }
   ],
   "source": [
    "# This will do x\n",
    "\n",
    "print(\"My name is Bond, James Bond,\", '0'+ '0' +'7')\n",
    "print(\"My name is Bond, James Bond, 007\")\n"
   ]
  },
  {
   "cell_type": "markdown",
   "metadata": {},
   "source": [
    "In the next block, write a multiple line comment that explains what the print statement in the block will do. This block will be a bit more complex as there are elements in it that we have not covered yet. Try your best. Run the script after you are done. "
   ]
  },
  {
   "cell_type": "code",
   "execution_count": null,
   "metadata": {},
   "outputs": [],
   "source": [
    "\n",
    "\n",
    "\n",
    "i = 42\n",
    "\n",
    "print(\"Today's number is\", i)\n",
    "\n",
    "print(i + i)\n"
   ]
  },
  {
   "cell_type": "markdown",
   "metadata": {},
   "source": [
    "In the next block, comment on what the block is going to do and return to us. Use whichever comment technique that you want to use. "
   ]
  },
  {
   "cell_type": "code",
   "execution_count": 36,
   "metadata": {},
   "outputs": [
    {
     "data": {
      "text/plain": [
       "42"
      ]
     },
     "execution_count": 36,
     "metadata": {},
     "output_type": "execute_result"
    }
   ],
   "source": [
    "python = 21+21\n",
    "\n",
    "python"
   ]
  },
  {
   "cell_type": "markdown",
   "metadata": {},
   "source": [
    "# Display\n",
    "\n",
    "Along with `print`, Python gives us the ability to `display` results also. While with numbers the results look the same as a print statement, and while their syntax and operations are the same (as you will see), `display` and `print` will act differently with lists, dictionaries and DataFrames. These are structures for holding data, which we will learn in several weeks.\n",
    "\n",
    "Run each block below, and see if you can tell what Python is doing. As you figure it out, place a comment (either technique) in the block to explain what Python is doing."
   ]
  },
  {
   "cell_type": "code",
   "execution_count": 37,
   "metadata": {},
   "outputs": [
    {
     "data": {
      "text/plain": [
       "'Hello World!'"
      ]
     },
     "metadata": {},
     "output_type": "display_data"
    }
   ],
   "source": [
    "\n",
    "\n",
    "display('Hello World!')\n"
   ]
  },
  {
   "cell_type": "code",
   "execution_count": 38,
   "metadata": {},
   "outputs": [
    {
     "data": {
      "text/plain": [
       "42"
      ]
     },
     "metadata": {},
     "output_type": "display_data"
    }
   ],
   "source": [
    "\n",
    "\n",
    "display(21+21)\n"
   ]
  },
  {
   "cell_type": "code",
   "execution_count": 39,
   "metadata": {},
   "outputs": [
    {
     "data": {
      "text/plain": [
       "42"
      ]
     },
     "metadata": {},
     "output_type": "display_data"
    }
   ],
   "source": [
    "\n",
    "\n",
    "display(42)\n"
   ]
  },
  {
   "cell_type": "code",
   "execution_count": 42,
   "metadata": {},
   "outputs": [
    {
     "data": {
      "text/plain": [
       "'The answer to life, the universe and everything is 42'"
      ]
     },
     "metadata": {},
     "output_type": "display_data"
    },
    {
     "data": {
      "text/plain": [
       "'The answer to life, the universe and everything is'"
      ]
     },
     "metadata": {},
     "output_type": "display_data"
    },
    {
     "data": {
      "text/plain": [
       "42"
      ]
     },
     "metadata": {},
     "output_type": "display_data"
    }
   ],
   "source": [
    "\n",
    "\n",
    "i = 42\n",
    "\n",
    "display(\"The answer to life, the universe and everything is \"+'42')\n",
    "display(\"The answer to life, the universe and everything is\", i)\n"
   ]
  },
  {
   "cell_type": "markdown",
   "metadata": {},
   "source": [
    "Take a look at this next block. You will see differences in the syntax and commands. In a documentation comment (your choice on the technique), explain the effects of the differences. "
   ]
  },
  {
   "cell_type": "code",
   "execution_count": 43,
   "metadata": {},
   "outputs": [
    {
     "name": "stdout",
     "output_type": "stream",
     "text": [
      "The answer to life, the universe and everything is 42\n"
     ]
    },
    {
     "data": {
      "text/plain": [
       "'The answer to life, the universe and everything is'"
      ]
     },
     "metadata": {},
     "output_type": "display_data"
    },
    {
     "data": {
      "text/plain": [
       "42"
      ]
     },
     "metadata": {},
     "output_type": "display_data"
    }
   ],
   "source": [
    "\n",
    "\n",
    "\n",
    "\n",
    "print(\"The answer to life, the universe and everything is\", i)\n",
    "display(\"The answer to life, the universe and everything is\", i)"
   ]
  },
  {
   "cell_type": "markdown",
   "metadata": {},
   "source": [
    "Run the next block of code. ***DO NOT WORRY ABOUT UNDERSTANDONG IT***, you will understand it in the next couple of weeks. For now, we need its output so that we can see the difference between `print` and `display` when we get to higher programming. \n",
    "\n",
    "***Again, simply run the code and do not fret about not understanding it.\""
   ]
  },
  {
   "cell_type": "code",
   "execution_count": 4,
   "metadata": {},
   "outputs": [],
   "source": [
    "import datetime\n",
    "import pandas as pd\n",
    "import numpy as np\n",
    "\n",
    "todays_date = datetime.datetime.now().date()\n",
    "index = pd.date_range(todays_date-datetime.timedelta(10), periods=10, freq='D')\n",
    "\n",
    "columns = ['A','B', 'C']\n",
    "df_ = pd.DataFrame(index=index, columns=columns)\n",
    "df_ = df_.fillna(0)\n",
    "\n",
    "data = np.array([np.arange(10)]*3).T\n",
    "df = pd.DataFrame(data, index=index, columns=columns)"
   ]
  },
  {
   "cell_type": "markdown",
   "metadata": {},
   "source": [
    "Next, run this next block. They are both drawing from the table we just made (in case you wanted to know what we were doing in the last block). Notice the difference between `print` and `display` in the output."
   ]
  },
  {
   "cell_type": "code",
   "execution_count": 5,
   "metadata": {},
   "outputs": [
    {
     "name": "stdout",
     "output_type": "stream",
     "text": [
      "            A  B  C\n",
      "2020-01-23  0  0  0\n",
      "2020-01-24  1  1  1\n",
      "2020-01-25  2  2  2\n",
      "2020-01-26  3  3  3\n",
      "2020-01-27  4  4  4\n",
      "2020-01-28  5  5  5\n",
      "2020-01-29  6  6  6\n",
      "2020-01-30  7  7  7\n",
      "2020-01-31  8  8  8\n",
      "2020-02-01  9  9  9\n"
     ]
    },
    {
     "data": {
      "text/html": [
       "<div>\n",
       "<style scoped>\n",
       "    .dataframe tbody tr th:only-of-type {\n",
       "        vertical-align: middle;\n",
       "    }\n",
       "\n",
       "    .dataframe tbody tr th {\n",
       "        vertical-align: top;\n",
       "    }\n",
       "\n",
       "    .dataframe thead th {\n",
       "        text-align: right;\n",
       "    }\n",
       "</style>\n",
       "<table border=\"1\" class=\"dataframe\">\n",
       "  <thead>\n",
       "    <tr style=\"text-align: right;\">\n",
       "      <th></th>\n",
       "      <th>A</th>\n",
       "      <th>B</th>\n",
       "      <th>C</th>\n",
       "    </tr>\n",
       "  </thead>\n",
       "  <tbody>\n",
       "    <tr>\n",
       "      <td>2020-01-23</td>\n",
       "      <td>0</td>\n",
       "      <td>0</td>\n",
       "      <td>0</td>\n",
       "    </tr>\n",
       "    <tr>\n",
       "      <td>2020-01-24</td>\n",
       "      <td>1</td>\n",
       "      <td>1</td>\n",
       "      <td>1</td>\n",
       "    </tr>\n",
       "    <tr>\n",
       "      <td>2020-01-25</td>\n",
       "      <td>2</td>\n",
       "      <td>2</td>\n",
       "      <td>2</td>\n",
       "    </tr>\n",
       "    <tr>\n",
       "      <td>2020-01-26</td>\n",
       "      <td>3</td>\n",
       "      <td>3</td>\n",
       "      <td>3</td>\n",
       "    </tr>\n",
       "    <tr>\n",
       "      <td>2020-01-27</td>\n",
       "      <td>4</td>\n",
       "      <td>4</td>\n",
       "      <td>4</td>\n",
       "    </tr>\n",
       "    <tr>\n",
       "      <td>2020-01-28</td>\n",
       "      <td>5</td>\n",
       "      <td>5</td>\n",
       "      <td>5</td>\n",
       "    </tr>\n",
       "    <tr>\n",
       "      <td>2020-01-29</td>\n",
       "      <td>6</td>\n",
       "      <td>6</td>\n",
       "      <td>6</td>\n",
       "    </tr>\n",
       "    <tr>\n",
       "      <td>2020-01-30</td>\n",
       "      <td>7</td>\n",
       "      <td>7</td>\n",
       "      <td>7</td>\n",
       "    </tr>\n",
       "    <tr>\n",
       "      <td>2020-01-31</td>\n",
       "      <td>8</td>\n",
       "      <td>8</td>\n",
       "      <td>8</td>\n",
       "    </tr>\n",
       "    <tr>\n",
       "      <td>2020-02-01</td>\n",
       "      <td>9</td>\n",
       "      <td>9</td>\n",
       "      <td>9</td>\n",
       "    </tr>\n",
       "  </tbody>\n",
       "</table>\n",
       "</div>"
      ],
      "text/plain": [
       "            A  B  C\n",
       "2020-01-23  0  0  0\n",
       "2020-01-24  1  1  1\n",
       "2020-01-25  2  2  2\n",
       "2020-01-26  3  3  3\n",
       "2020-01-27  4  4  4\n",
       "2020-01-28  5  5  5\n",
       "2020-01-29  6  6  6\n",
       "2020-01-30  7  7  7\n",
       "2020-01-31  8  8  8\n",
       "2020-02-01  9  9  9"
      ]
     },
     "metadata": {},
     "output_type": "display_data"
    }
   ],
   "source": [
    "print(df)\n",
    "display(df)"
   ]
  },
  {
   "cell_type": "markdown",
   "metadata": {},
   "source": [
    "In the next block, write a multiple line statement that explains the difference between `print` and `display` when we are using a table. "
   ]
  },
  {
   "cell_type": "code",
   "execution_count": null,
   "metadata": {},
   "outputs": [],
   "source": []
  }
 ],
 "metadata": {
  "kernelspec": {
   "display_name": "Python 3",
   "language": "python",
   "name": "python3"
  },
  "language_info": {
   "codemirror_mode": {
    "name": "ipython",
    "version": 3
   },
   "file_extension": ".py",
   "mimetype": "text/x-python",
   "name": "python",
   "nbconvert_exporter": "python",
   "pygments_lexer": "ipython3",
   "version": "3.7.4"
  },
  "toc": {
   "base_numbering": 1,
   "nav_menu": {},
   "number_sections": true,
   "sideBar": true,
   "skip_h1_title": false,
   "title_cell": "Table of Contents",
   "title_sidebar": "Contents",
   "toc_cell": false,
   "toc_position": {},
   "toc_section_display": true,
   "toc_window_display": false
  },
  "varInspector": {
   "cols": {
    "lenName": 16,
    "lenType": 16,
    "lenVar": 40
   },
   "kernels_config": {
    "python": {
     "delete_cmd_postfix": "",
     "delete_cmd_prefix": "del ",
     "library": "var_list.py",
     "varRefreshCmd": "print(var_dic_list())"
    },
    "r": {
     "delete_cmd_postfix": ") ",
     "delete_cmd_prefix": "rm(",
     "library": "var_list.r",
     "varRefreshCmd": "cat(var_dic_list()) "
    }
   },
   "types_to_exclude": [
    "module",
    "function",
    "builtin_function_or_method",
    "instance",
    "_Feature"
   ],
   "window_display": false
  }
 },
 "nbformat": 4,
 "nbformat_minor": 2
}
